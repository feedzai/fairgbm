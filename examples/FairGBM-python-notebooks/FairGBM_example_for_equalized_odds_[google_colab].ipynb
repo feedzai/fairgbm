{
  "cells": [
    {
      "cell_type": "markdown",
      "source": [
        "Install notebook requirements."
      ],
      "metadata": {
        "id": "guyJqK-R_pNq"
      }
    },
    {
      "cell_type": "code",
      "execution_count": 1,
      "metadata": {
        "colab": {
          "base_uri": "https://localhost:8080/"
        },
        "id": "kk_0kz8ejiur",
        "outputId": "d1b4b372-e921-42ad-df1b-60d1cee94a84"
      },
      "outputs": [
        {
          "output_type": "stream",
          "name": "stdout",
          "text": [
            "Requirement already satisfied: fairgbm in /usr/local/lib/python3.10/dist-packages (0.9.14)\n",
            "Requirement already satisfied: fairlearn in /usr/local/lib/python3.10/dist-packages (0.9.0)\n",
            "Requirement already satisfied: scikit-learn in /usr/local/lib/python3.10/dist-packages (1.2.2)\n",
            "Requirement already satisfied: hyperparameter-tuning in /usr/local/lib/python3.10/dist-packages (0.3.1)\n",
            "Requirement already satisfied: seaborn in /usr/local/lib/python3.10/dist-packages (0.12.2)\n",
            "Requirement already satisfied: matplotlib in /usr/local/lib/python3.10/dist-packages (3.7.1)\n",
            "Requirement already satisfied: wget in /usr/local/lib/python3.10/dist-packages (3.2)\n",
            "Requirement already satisfied: wheel in /usr/local/lib/python3.10/dist-packages (from fairgbm) (0.41.2)\n",
            "Requirement already satisfied: numpy in /usr/local/lib/python3.10/dist-packages (from fairgbm) (1.23.5)\n",
            "Requirement already satisfied: scipy in /usr/local/lib/python3.10/dist-packages (from fairgbm) (1.11.2)\n",
            "Requirement already satisfied: pandas>=0.25.2 in /usr/local/lib/python3.10/dist-packages (from fairlearn) (1.5.3)\n",
            "Requirement already satisfied: joblib>=1.1.1 in /usr/local/lib/python3.10/dist-packages (from scikit-learn) (1.3.2)\n",
            "Requirement already satisfied: threadpoolctl>=2.0.0 in /usr/local/lib/python3.10/dist-packages (from scikit-learn) (3.2.0)\n",
            "Requirement already satisfied: optuna in /usr/local/lib/python3.10/dist-packages (from hyperparameter-tuning) (3.3.0)\n",
            "Requirement already satisfied: pyyaml in /usr/local/lib/python3.10/dist-packages (from hyperparameter-tuning) (6.0.1)\n",
            "Requirement already satisfied: schema in /usr/local/lib/python3.10/dist-packages (from hyperparameter-tuning) (0.7.5)\n",
            "Requirement already satisfied: contourpy>=1.0.1 in /usr/local/lib/python3.10/dist-packages (from matplotlib) (1.1.0)\n",
            "Requirement already satisfied: cycler>=0.10 in /usr/local/lib/python3.10/dist-packages (from matplotlib) (0.11.0)\n",
            "Requirement already satisfied: fonttools>=4.22.0 in /usr/local/lib/python3.10/dist-packages (from matplotlib) (4.42.1)\n",
            "Requirement already satisfied: kiwisolver>=1.0.1 in /usr/local/lib/python3.10/dist-packages (from matplotlib) (1.4.5)\n",
            "Requirement already satisfied: packaging>=20.0 in /usr/local/lib/python3.10/dist-packages (from matplotlib) (23.1)\n",
            "Requirement already satisfied: pillow>=6.2.0 in /usr/local/lib/python3.10/dist-packages (from matplotlib) (9.4.0)\n",
            "Requirement already satisfied: pyparsing>=2.3.1 in /usr/local/lib/python3.10/dist-packages (from matplotlib) (3.1.1)\n",
            "Requirement already satisfied: python-dateutil>=2.7 in /usr/local/lib/python3.10/dist-packages (from matplotlib) (2.8.2)\n",
            "Requirement already satisfied: pytz>=2020.1 in /usr/local/lib/python3.10/dist-packages (from pandas>=0.25.2->fairlearn) (2023.3.post1)\n",
            "Requirement already satisfied: six>=1.5 in /usr/local/lib/python3.10/dist-packages (from python-dateutil>=2.7->matplotlib) (1.16.0)\n",
            "Requirement already satisfied: alembic>=1.5.0 in /usr/local/lib/python3.10/dist-packages (from optuna->hyperparameter-tuning) (1.12.0)\n",
            "Requirement already satisfied: cmaes>=0.10.0 in /usr/local/lib/python3.10/dist-packages (from optuna->hyperparameter-tuning) (0.10.0)\n",
            "Requirement already satisfied: colorlog in /usr/local/lib/python3.10/dist-packages (from optuna->hyperparameter-tuning) (6.7.0)\n",
            "Requirement already satisfied: sqlalchemy>=1.3.0 in /usr/local/lib/python3.10/dist-packages (from optuna->hyperparameter-tuning) (2.0.20)\n",
            "Requirement already satisfied: tqdm in /usr/local/lib/python3.10/dist-packages (from optuna->hyperparameter-tuning) (4.66.1)\n",
            "Requirement already satisfied: contextlib2>=0.5.5 in /usr/local/lib/python3.10/dist-packages (from schema->hyperparameter-tuning) (21.6.0)\n",
            "Requirement already satisfied: Mako in /usr/local/lib/python3.10/dist-packages (from alembic>=1.5.0->optuna->hyperparameter-tuning) (1.2.4)\n",
            "Requirement already satisfied: typing-extensions>=4 in /usr/local/lib/python3.10/dist-packages (from alembic>=1.5.0->optuna->hyperparameter-tuning) (4.5.0)\n",
            "Requirement already satisfied: greenlet!=0.4.17 in /usr/local/lib/python3.10/dist-packages (from sqlalchemy>=1.3.0->optuna->hyperparameter-tuning) (2.0.2)\n",
            "Requirement already satisfied: MarkupSafe>=0.9.2 in /usr/local/lib/python3.10/dist-packages (from Mako->alembic>=1.5.0->optuna->hyperparameter-tuning) (2.1.3)\n"
          ]
        }
      ],
      "source": [
        "%pip install fairgbm fairlearn scikit-learn hyperparameter-tuning seaborn matplotlib wget"
      ]
    },
    {
      "cell_type": "code",
      "execution_count": 2,
      "metadata": {
        "id": "c73em4AWlBks"
      },
      "outputs": [],
      "source": [
        "import os\n",
        "import numpy as np\n",
        "import pandas as pd\n",
        "from fairgbm import FairGBMClassifier"
      ]
    },
    {
      "cell_type": "markdown",
      "metadata": {
        "id": "2shmRM-q-shH"
      },
      "source": [
        "Set-up useful global constants."
      ]
    },
    {
      "cell_type": "code",
      "execution_count": 3,
      "metadata": {
        "id": "HscI2bfhjrC3"
      },
      "outputs": [],
      "source": [
        "SEED = 42\n",
        "\n",
        "TEST_SIZE = 0.2\n",
        "VALIDATION_SIZE = 0.2\n",
        "\n",
        "PERF_METRIC = \"accuracy\"\n",
        "DISP_METRIC = \"equalized_odds_diff\"    # measures disparity, lower is better\n",
        "FAIR_METRIC = \"equalized_odds_ratio\"   # similar but higher is better\n",
        "\n",
        "N_JOBS = max(2, os.cpu_count() - 2)\n",
        "\n",
        "np.random.seed(SEED)"
      ]
    },
    {
      "cell_type": "code",
      "execution_count": 4,
      "metadata": {
        "id": "kps_mg9dj565"
      },
      "outputs": [],
      "source": [
        "SENSITIVE_COL = \"sex\"\n",
        "sensitive_col_map = {\"Male\": 0, \"Female\": 1}\n",
        "\n",
        "sensitive_col_inverse = {val: key for key, val in sensitive_col_map.items()}\n",
        "\n",
        "POS_LABEL = \">50K\""
      ]
    },
    {
      "cell_type": "markdown",
      "source": [
        "**Load UCI Adult dataset.**"
      ],
      "metadata": {
        "id": "dkk1W4Xe_0-W"
      }
    },
    {
      "cell_type": "code",
      "execution_count": 5,
      "metadata": {
        "id": "4VnMP7vrk9Xp"
      },
      "outputs": [],
      "source": [
        "from fairlearn.datasets import fetch_adult\n",
        "\n",
        "X, Y = fetch_adult(\n",
        "    as_frame=True,\n",
        "    return_X_y=True,\n",
        ")\n",
        "\n",
        "# Map labels and sensitive column to numeric data\n",
        "Y = np.array(Y == POS_LABEL, dtype=int)\n",
        "S = np.array([sensitive_col_map[elem] for elem in X[SENSITIVE_COL]], dtype=int)"
      ]
    },
    {
      "cell_type": "markdown",
      "source": [
        "Split in train/test/validation."
      ],
      "metadata": {
        "id": "rSryXTc1_8fj"
      }
    },
    {
      "cell_type": "code",
      "execution_count": 6,
      "metadata": {
        "id": "UiwJNjYSlNXz"
      },
      "outputs": [],
      "source": [
        "from sklearn.model_selection import train_test_split\n",
        "\n",
        "X_train, X_other, y_train, y_other, s_train, s_other = train_test_split(\n",
        "    X, Y, S,\n",
        "    test_size=TEST_SIZE + VALIDATION_SIZE,\n",
        "    stratify=Y, random_state=SEED,\n",
        ")\n",
        "\n",
        "X_val, X_test, y_val, y_test, s_val, s_test = train_test_split(\n",
        "    X_other, y_other, s_other,\n",
        "    test_size=TEST_SIZE / (TEST_SIZE + VALIDATION_SIZE),\n",
        "    stratify=y_other, random_state=SEED,\n",
        ")"
      ]
    },
    {
      "cell_type": "markdown",
      "source": [
        "Get a YAML file detailing the hyperparameter search space.\n",
        "\n",
        "This example file should cover a wide range of uses, but you can tailor it to your own use-case."
      ],
      "metadata": {
        "id": "FAjMdjsO__dq"
      }
    },
    {
      "cell_type": "code",
      "execution_count": 7,
      "metadata": {
        "colab": {
          "base_uri": "https://localhost:8080/",
          "height": 35
        },
        "id": "OSBJdvVWl_F0",
        "outputId": "b4828f21-4ba3-45de-a306-b312ee5e78ad"
      },
      "outputs": [
        {
          "output_type": "execute_result",
          "data": {
            "text/plain": [
              "'fairgbm_hyperparam_space (1).yaml'"
            ],
            "application/vnd.google.colaboratory.intrinsic+json": {
              "type": "string"
            }
          },
          "metadata": {},
          "execution_count": 7
        }
      ],
      "source": [
        "import wget\n",
        "fairgbm_hyperparam_space_url = \"https://raw.githubusercontent.com/feedzai/fairgbm/main-fairgbm/examples/FairGBM-python-notebooks/fairgbm_equalized-odds.yaml\"\n",
        "fairgbm_hyperparam_space_path = \"fairgbm_hyperparam_space.yaml\"\n",
        "wget.download(fairgbm_hyperparam_space_url, fairgbm_hyperparam_space_path)"
      ]
    },
    {
      "cell_type": "markdown",
      "source": [
        "Set-up hyperparameter tuner using the `hyperparameter-tuning` package (essentially provides useful evaluation boilerplate code on top of `optuna`)."
      ],
      "metadata": {
        "id": "OhxmUw4LAfJZ"
      }
    },
    {
      "cell_type": "code",
      "execution_count": 8,
      "metadata": {
        "id": "xfn5gv-MlVoY"
      },
      "outputs": [],
      "source": [
        "from hpt.tuner import ObjectiveFunction, OptunaTuner\n",
        "import optuna.logging\n",
        "optuna.logging.set_verbosity(optuna.logging.WARN)   # Turn off optuna log notes.\n",
        "\n",
        "obj_func = ObjectiveFunction(\n",
        "    X_train=X_train, y_train=y_train, s_train=s_train,\n",
        "    X_val=X_val, y_val=y_val, s_val=s_val,\n",
        "    X_test=X_test, y_test=y_test, s_test=s_test,\n",
        "    hyperparameter_space=fairgbm_hyperparam_space_path,\n",
        "    eval_metric=PERF_METRIC,\n",
        "    other_eval_metric=FAIR_METRIC,\n",
        "    threshold=0.50,\n",
        ")\n",
        "\n",
        "tuner = OptunaTuner(\n",
        "    objective_function=obj_func,\n",
        "    direction=\"maximize\",\n",
        "    seed=SEED,\n",
        ")"
      ]
    },
    {
      "cell_type": "code",
      "execution_count": 9,
      "metadata": {
        "colab": {
          "base_uri": "https://localhost:8080/",
          "height": 120,
          "referenced_widgets": [
            "80c7716af87f4953b37a5824666a80c8",
            "63890facec3a4fe1b055624b49d5e9ee",
            "06093cbc4f2347a09e0702dcff468236",
            "40b10589d01b40ab9c7e2a8587ca6fc2",
            "7e37081a99544de0898402f7d3f0afb1",
            "e07f68e528ae45dbb25ce97b11e2fd87",
            "2d702bdd80f04ccab055629ac1854bea",
            "2918e5a43e6a4284a45e31a21e64e10e",
            "e6183d5d0efa4406ac64e3d5336e5bcc",
            "c4d71adf52944b138f6f15c635b6f858",
            "d4ead5036eb0441f82c2a7722340ece1"
          ]
        },
        "id": "mAcWKDLUlXIS",
        "outputId": "25504cfc-5dfd-4c9b-9070-c0f83826bea0"
      },
      "outputs": [
        {
          "output_type": "display_data",
          "data": {
            "text/plain": [
              "  0%|          | 0/20 [00:00<?, ?it/s]"
            ],
            "application/vnd.jupyter.widget-view+json": {
              "version_major": 2,
              "version_minor": 0,
              "model_id": "80c7716af87f4953b37a5824666a80c8"
            }
          },
          "metadata": {}
        },
        {
          "output_type": "stream",
          "name": "stdout",
          "text": [
            "Best model is {'classpath': 'fairgbm.FairGBMClassifier', 'n_jobs': 1, 'boosting_type': 'gbdt', 'enable_bundle': False, 'n_estimators': 174, 'num_leaves': 6, 'min_child_samples': 52, 'max_depth': 5, 'learning_rate': 0.17141223842861147, 'reg_alpha': 0.03343187778948064, 'reg_lambda': 0.032412497842132154, 'constraint_type': 'FNR,FPR', 'multiplier_learning_rate': 0.07446344965283483}\n",
            "CPU times: user 4min 54s, sys: 1.31 s, total: 4min 55s\n",
            "Wall time: 3min 22s\n"
          ]
        }
      ],
      "source": [
        "%%time\n",
        "N_TRIALS = 20\n",
        "tuner.optimize(n_trials=N_TRIALS, n_jobs=N_JOBS, show_progress_bar=True)\n",
        "print(f\"Best model is {obj_func.best_trial.hyperparameters}\")"
      ]
    },
    {
      "cell_type": "markdown",
      "metadata": {
        "id": "zTsQrWJQqTPQ"
      },
      "source": [
        "## Plot results and select best model"
      ]
    },
    {
      "cell_type": "code",
      "execution_count": 10,
      "metadata": {
        "id": "6pP_Caf6qn6X"
      },
      "outputs": [],
      "source": [
        "from matplotlib import pyplot as plt\n",
        "import seaborn as sns\n",
        "sns.set(palette=\"colorblind\", style=\"whitegrid\", rc={\"grid.linestyle\": \"--\", \"figure.dpi\": 200, \"figure.figsize\": (4,3)})"
      ]
    },
    {
      "cell_type": "markdown",
      "metadata": {
        "id": "g41U3A9zr34R"
      },
      "source": [
        "Model selection (on validation):"
      ]
    },
    {
      "cell_type": "code",
      "execution_count": 11,
      "metadata": {
        "id": "5O6OS5MZm-UP"
      },
      "outputs": [],
      "source": [
        "# Choose some relative weight to give to the performance metric\n",
        "# (or select model based on some other criterion)\n",
        "TRADEOFF_WEIGHT = 0.5\n",
        "\n",
        "# Model selection is done on validation data\n",
        "val_results = obj_func.get_results(\"validation\")\n",
        "\n",
        "# Get index of best model in the results table\n",
        "# > note: IDs and indices may differ as trials are ran asynchronously\n",
        "best_model_idx = np.argmax(\n",
        "    val_results[PERF_METRIC] * TRADEOFF_WEIGHT\n",
        "    + (1 - val_results[DISP_METRIC]) * (1 - TRADEOFF_WEIGHT)\n",
        ")\n",
        "\n",
        "best_trial = obj_func.all_results[best_model_idx]"
      ]
    },
    {
      "cell_type": "markdown",
      "metadata": {
        "id": "nmcmH6azr8XV"
      },
      "source": [
        "Plot test results:"
      ]
    },
    {
      "cell_type": "code",
      "execution_count": 12,
      "metadata": {
        "colab": {
          "base_uri": "https://localhost:8080/",
          "height": 661
        },
        "id": "zUOVqKL2npYH",
        "outputId": "9f1b8304-465a-438e-ccea-a6143fdfd52d"
      },
      "outputs": [
        {
          "output_type": "display_data",
          "data": {
            "text/plain": [
              "<Figure size 800x600 with 1 Axes>"
            ],
            "image/png": "[encoded data removed]"
          },
          "metadata": {}
        }
      ],
      "source": [
        "test_results = obj_func.get_results(\"test\")\n",
        "best_trial_results = test_results.iloc[best_model_idx]\n",
        "\n",
        "# Plot best model with a red star\n",
        "sns.scatterplot(\n",
        "    x=[best_trial_results[PERF_METRIC]],\n",
        "    y=[best_trial_results[DISP_METRIC]],\n",
        "    color=\"red\",\n",
        "    marker=\"*\",\n",
        "    s=100,\n",
        "    label=\"best on validation\",\n",
        "    zorder=10,\n",
        ")\n",
        "\n",
        "# Plot all other points\n",
        "sns.scatterplot(\n",
        "    data=test_results.drop(index=best_trial.id),\n",
        "    x=PERF_METRIC,\n",
        "    y=DISP_METRIC,\n",
        ")\n",
        "\n",
        "ax_kwargs = dict(\n",
        "    title=\"Fairness-Accuracy Trade-Off (test)\",\n",
        "    xlabel=PERF_METRIC + r\"$\\rightarrow$\",\n",
        "    ylabel=r\"equalized odds (diff.) $\\leftarrow$\" if DISP_METRIC == \"equalized_odds_diff\" else DISP_METRIC,\n",
        ")\n",
        "\n",
        "# You may need to change these ranges to see the models\n",
        "plt.ylim(0, 0.08)\n",
        "plt.xlim(0.83, 0.9)\n",
        "\n",
        "plt.legend(loc=\"upper left\")\n",
        "plt.gca().set(**ax_kwargs)\n",
        "\n",
        "plt.show()"
      ]
    },
    {
      "cell_type": "markdown",
      "metadata": {
        "id": "iYdaFZ3suSc7"
      },
      "source": [
        "By default, `hyperparameter_tuning` will train, evalaute, and discard all models. You can re-create the best model with:"
      ]
    },
    {
      "cell_type": "code",
      "execution_count": 13,
      "metadata": {
        "colab": {
          "base_uri": "https://localhost:8080/",
          "height": 210
        },
        "id": "Dn-x5T2UvJel",
        "outputId": "fbb6b974-1d10-4dfc-bdb2-eed3416ee3eb"
      },
      "outputs": [
        {
          "output_type": "stream",
          "name": "stdout",
          "text": [
            "CPU times: user 6.59 s, sys: 27.1 ms, total: 6.62 s\n",
            "Wall time: 6.61 s\n"
          ]
        },
        {
          "output_type": "execute_result",
          "data": {
            "text/plain": [
              "FairGBMClassifier(constraint_type='FNR,FPR', enable_bundle=False,\n",
              "                  learning_rate=0.016029234981291163, max_depth=6,\n",
              "                  min_child_samples=63,\n",
              "                  multiplier_learning_rate=0.05220004751596058,\n",
              "                  n_estimators=1045, n_jobs=1, num_leaves=7,\n",
              "                  reg_alpha=0.00015636059199278671,\n",
              "                  reg_lambda=0.0014516067928004718)"
            ],
            "text/html": [
              "<style>#sk-container-id-1 {color: black;background-color: white;}#sk-container-id-1 pre{padding: 0;}#sk-container-id-1 div.sk-toggleable {background-color: white;}#sk-container-id-1 label.sk-toggleable__label {cursor: pointer;display: block;width: 100%;margin-bottom: 0;padding: 0.3em;box-sizing: border-box;text-align: center;}#sk-container-id-1 label.sk-toggleable__label-arrow:before {content: \"▸\";float: left;margin-right: 0.25em;color: #696969;}#sk-container-id-1 label.sk-toggleable__label-arrow:hover:before {color: black;}#sk-container-id-1 div.sk-estimator:hover label.sk-toggleable__label-arrow:before {color: black;}#sk-container-id-1 div.sk-toggleable__content {max-height: 0;max-width: 0;overflow: hidden;text-align: left;background-color: #f0f8ff;}#sk-container-id-1 div.sk-toggleable__content pre {margin: 0.2em;color: black;border-radius: 0.25em;background-color: #f0f8ff;}#sk-container-id-1 input.sk-toggleable__control:checked~div.sk-toggleable__content {max-height: 200px;max-width: 100%;overflow: auto;}#sk-container-id-1 input.sk-toggleable__control:checked~label.sk-toggleable__label-arrow:before {content: \"▾\";}#sk-container-id-1 div.sk-estimator input.sk-toggleable__control:checked~label.sk-toggleable__label {background-color: #d4ebff;}#sk-container-id-1 div.sk-label input.sk-toggleable__control:checked~label.sk-toggleable__label {background-color: #d4ebff;}#sk-container-id-1 input.sk-hidden--visually {border: 0;clip: rect(1px 1px 1px 1px);clip: rect(1px, 1px, 1px, 1px);height: 1px;margin: -1px;overflow: hidden;padding: 0;position: absolute;width: 1px;}#sk-container-id-1 div.sk-estimator {font-family: monospace;background-color: #f0f8ff;border: 1px dotted black;border-radius: 0.25em;box-sizing: border-box;margin-bottom: 0.5em;}#sk-container-id-1 div.sk-estimator:hover {background-color: #d4ebff;}#sk-container-id-1 div.sk-parallel-item::after {content: \"\";width: 100%;border-bottom: 1px solid gray;flex-grow: 1;}#sk-container-id-1 div.sk-label:hover label.sk-toggleable__label {background-color: #d4ebff;}#sk-container-id-1 div.sk-serial::before {content: \"\";position: absolute;border-left: 1px solid gray;box-sizing: border-box;top: 0;bottom: 0;left: 50%;z-index: 0;}#sk-container-id-1 div.sk-serial {display: flex;flex-direction: column;align-items: center;background-color: white;padding-right: 0.2em;padding-left: 0.2em;position: relative;}#sk-container-id-1 div.sk-item {position: relative;z-index: 1;}#sk-container-id-1 div.sk-parallel {display: flex;align-items: stretch;justify-content: center;background-color: white;position: relative;}#sk-container-id-1 div.sk-item::before, #sk-container-id-1 div.sk-parallel-item::before {content: \"\";position: absolute;border-left: 1px solid gray;box-sizing: border-box;top: 0;bottom: 0;left: 50%;z-index: -1;}#sk-container-id-1 div.sk-parallel-item {display: flex;flex-direction: column;z-index: 1;position: relative;background-color: white;}#sk-container-id-1 div.sk-parallel-item:first-child::after {align-self: flex-end;width: 50%;}#sk-container-id-1 div.sk-parallel-item:last-child::after {align-self: flex-start;width: 50%;}#sk-container-id-1 div.sk-parallel-item:only-child::after {width: 0;}#sk-container-id-1 div.sk-dashed-wrapped {border: 1px dashed gray;margin: 0 0.4em 0.5em 0.4em;box-sizing: border-box;padding-bottom: 0.4em;background-color: white;}#sk-container-id-1 div.sk-label label {font-family: monospace;font-weight: bold;display: inline-block;line-height: 1.2em;}#sk-container-id-1 div.sk-label-container {text-align: center;}#sk-container-id-1 div.sk-container {/* jupyter's `normalize.less` sets `[hidden] { display: none; }` but bootstrap.min.css set `[hidden] { display: none !important; }` so we also need the `!important` here to be able to override the default hidden behavior on the sphinx rendered scikit-learn.org. See: https://github.com/scikit-learn/scikit-learn/issues/21755 */display: inline-block !important;position: relative;}#sk-container-id-1 div.sk-text-repr-fallback {display: none;}</style><div id=\"sk-container-id-1\" class=\"sk-top-container\"><div class=\"sk-text-repr-fallback\"><pre>FairGBMClassifier(constraint_type=&#x27;FNR,FPR&#x27;, enable_bundle=False,\n",
              "                  learning_rate=0.016029234981291163, max_depth=6,\n",
              "                  min_child_samples=63,\n",
              "                  multiplier_learning_rate=0.05220004751596058,\n",
              "                  n_estimators=1045, n_jobs=1, num_leaves=7,\n",
              "                  reg_alpha=0.00015636059199278671,\n",
              "                  reg_lambda=0.0014516067928004718)</pre><b>In a Jupyter environment, please rerun this cell to show the HTML representation or trust the notebook. <br />On GitHub, the HTML representation is unable to render, please try loading this page with nbviewer.org.</b></div><div class=\"sk-container\" hidden><div class=\"sk-item\"><div class=\"sk-estimator sk-toggleable\"><input class=\"sk-toggleable__control sk-hidden--visually\" id=\"sk-estimator-id-1\" type=\"checkbox\" checked><label for=\"sk-estimator-id-1\" class=\"sk-toggleable__label sk-toggleable__label-arrow\">FairGBMClassifier</label><div class=\"sk-toggleable__content\"><pre>FairGBMClassifier(constraint_type=&#x27;FNR,FPR&#x27;, enable_bundle=False,\n",
              "                  learning_rate=0.016029234981291163, max_depth=6,\n",
              "                  min_child_samples=63,\n",
              "                  multiplier_learning_rate=0.05220004751596058,\n",
              "                  n_estimators=1045, n_jobs=1, num_leaves=7,\n",
              "                  reg_alpha=0.00015636059199278671,\n",
              "                  reg_lambda=0.0014516067928004718)</pre></div></div></div></div></div>"
            ]
          },
          "metadata": {},
          "execution_count": 13
        }
      ],
      "source": [
        "%%time\n",
        "fairgbm_clf = obj_func.reconstruct_model(trial_results=best_trial)\n",
        "fairgbm_clf"
      ]
    }
  ],
  "metadata": {
    "colab": {
      "provenance": []
    },
    "kernelspec": {
      "display_name": "Python 3",
      "name": "python3"
    },
    "language_info": {
      "name": "python"
    },
    "widgets": {
      "application/vnd.jupyter.widget-state+json": {
        "80c7716af87f4953b37a5824666a80c8": {
          "model_module": "@jupyter-widgets/controls",
          "model_name": "HBoxModel",
          "model_module_version": "1.5.0",
          "state": {
            "_dom_classes": [],
            "_model_module": "@jupyter-widgets/controls",
            "_model_module_version": "1.5.0",
            "_model_name": "HBoxModel",
            "_view_count": null,
            "_view_module": "@jupyter-widgets/controls",
            "_view_module_version": "1.5.0",
            "_view_name": "HBoxView",
            "box_style": "",
            "children": [
              "IPY_MODEL_63890facec3a4fe1b055624b49d5e9ee",
              "IPY_MODEL_06093cbc4f2347a09e0702dcff468236",
              "IPY_MODEL_40b10589d01b40ab9c7e2a8587ca6fc2"
            ],
            "layout": "IPY_MODEL_7e37081a99544de0898402f7d3f0afb1"
          }
        },
        "63890facec3a4fe1b055624b49d5e9ee": {
          "model_module": "@jupyter-widgets/controls",
          "model_name": "HTMLModel",
          "model_module_version": "1.5.0",
          "state": {
            "_dom_classes": [],
            "_model_module": "@jupyter-widgets/controls",
            "_model_module_version": "1.5.0",
            "_model_name": "HTMLModel",
            "_view_count": null,
            "_view_module": "@jupyter-widgets/controls",
            "_view_module_version": "1.5.0",
            "_view_name": "HTMLView",
            "description": "",
            "description_tooltip": null,
            "layout": "IPY_MODEL_e07f68e528ae45dbb25ce97b11e2fd87",
            "placeholder": "​",
            "style": "IPY_MODEL_2d702bdd80f04ccab055629ac1854bea",
            "value": "Best trial: 5. Best value: 0.84677: 100%"
          }
        },
        "06093cbc4f2347a09e0702dcff468236": {
          "model_module": "@jupyter-widgets/controls",
          "model_name": "FloatProgressModel",
          "model_module_version": "1.5.0",
          "state": {
            "_dom_classes": [],
            "_model_module": "@jupyter-widgets/controls",
            "_model_module_version": "1.5.0",
            "_model_name": "FloatProgressModel",
            "_view_count": null,
            "_view_module": "@jupyter-widgets/controls",
            "_view_module_version": "1.5.0",
            "_view_name": "ProgressView",
            "bar_style": "success",
            "description": "",
            "description_tooltip": null,
            "layout": "IPY_MODEL_2918e5a43e6a4284a45e31a21e64e10e",
            "max": 20,
            "min": 0,
            "orientation": "horizontal",
            "style": "IPY_MODEL_e6183d5d0efa4406ac64e3d5336e5bcc",
            "value": 20
          }
        },
        "40b10589d01b40ab9c7e2a8587ca6fc2": {
          "model_module": "@jupyter-widgets/controls",
          "model_name": "HTMLModel",
          "model_module_version": "1.5.0",
          "state": {
            "_dom_classes": [],
            "_model_module": "@jupyter-widgets/controls",
            "_model_module_version": "1.5.0",
            "_model_name": "HTMLModel",
            "_view_count": null,
            "_view_module": "@jupyter-widgets/controls",
            "_view_module_version": "1.5.0",
            "_view_name": "HTMLView",
            "description": "",
            "description_tooltip": null,
            "layout": "IPY_MODEL_c4d71adf52944b138f6f15c635b6f858",
            "placeholder": "​",
            "style": "IPY_MODEL_d4ead5036eb0441f82c2a7722340ece1",
            "value": " 20/20 [03:22&lt;00:00,  7.11s/it]"
          }
        },
        "7e37081a99544de0898402f7d3f0afb1": {
          "model_module": "@jupyter-widgets/base",
          "model_name": "LayoutModel",
          "model_module_version": "1.2.0",
          "state": {
            "_model_module": "@jupyter-widgets/base",
            "_model_module_version": "1.2.0",
            "_model_name": "LayoutModel",
            "_view_count": null,
            "_view_module": "@jupyter-widgets/base",
            "_view_module_version": "1.2.0",
            "_view_name": "LayoutView",
            "align_content": null,
            "align_items": null,
            "align_self": null,
            "border": null,
            "bottom": null,
            "display": null,
            "flex": null,
            "flex_flow": null,
            "grid_area": null,
            "grid_auto_columns": null,
            "grid_auto_flow": null,
            "grid_auto_rows": null,
            "grid_column": null,
            "grid_gap": null,
            "grid_row": null,
            "grid_template_areas": null,
            "grid_template_columns": null,
            "grid_template_rows": null,
            "height": null,
            "justify_content": null,
            "justify_items": null,
            "left": null,
            "margin": null,
            "max_height": null,
            "max_width": null,
            "min_height": null,
            "min_width": null,
            "object_fit": null,
            "object_position": null,
            "order": null,
            "overflow": null,
            "overflow_x": null,
            "overflow_y": null,
            "padding": null,
            "right": null,
            "top": null,
            "visibility": null,
            "width": null
          }
        },
        "e07f68e528ae45dbb25ce97b11e2fd87": {
          "model_module": "@jupyter-widgets/base",
          "model_name": "LayoutModel",
          "model_module_version": "1.2.0",
          "state": {
            "_model_module": "@jupyter-widgets/base",
            "_model_module_version": "1.2.0",
            "_model_name": "LayoutModel",
            "_view_count": null,
            "_view_module": "@jupyter-widgets/base",
            "_view_module_version": "1.2.0",
            "_view_name": "LayoutView",
            "align_content": null,
            "align_items": null,
            "align_self": null,
            "border": null,
            "bottom": null,
            "display": null,
            "flex": null,
            "flex_flow": null,
            "grid_area": null,
            "grid_auto_columns": null,
            "grid_auto_flow": null,
            "grid_auto_rows": null,
            "grid_column": null,
            "grid_gap": null,
            "grid_row": null,
            "grid_template_areas": null,
            "grid_template_columns": null,
            "grid_template_rows": null,
            "height": null,
            "justify_content": null,
            "justify_items": null,
            "left": null,
            "margin": null,
            "max_height": null,
            "max_width": null,
            "min_height": null,
            "min_width": null,
            "object_fit": null,
            "object_position": null,
            "order": null,
            "overflow": null,
            "overflow_x": null,
            "overflow_y": null,
            "padding": null,
            "right": null,
            "top": null,
            "visibility": null,
            "width": null
          }
        },
        "2d702bdd80f04ccab055629ac1854bea": {
          "model_module": "@jupyter-widgets/controls",
          "model_name": "DescriptionStyleModel",
          "model_module_version": "1.5.0",
          "state": {
            "_model_module": "@jupyter-widgets/controls",
            "_model_module_version": "1.5.0",
            "_model_name": "DescriptionStyleModel",
            "_view_count": null,
            "_view_module": "@jupyter-widgets/base",
            "_view_module_version": "1.2.0",
            "_view_name": "StyleView",
            "description_width": ""
          }
        },
        "2918e5a43e6a4284a45e31a21e64e10e": {
          "model_module": "@jupyter-widgets/base",
          "model_name": "LayoutModel",
          "model_module_version": "1.2.0",
          "state": {
            "_model_module": "@jupyter-widgets/base",
            "_model_module_version": "1.2.0",
            "_model_name": "LayoutModel",
            "_view_count": null,
            "_view_module": "@jupyter-widgets/base",
            "_view_module_version": "1.2.0",
            "_view_name": "LayoutView",
            "align_content": null,
            "align_items": null,
            "align_self": null,
            "border": null,
            "bottom": null,
            "display": null,
            "flex": null,
            "flex_flow": null,
            "grid_area": null,
            "grid_auto_columns": null,
            "grid_auto_flow": null,
            "grid_auto_rows": null,
            "grid_column": null,
            "grid_gap": null,
            "grid_row": null,
            "grid_template_areas": null,
            "grid_template_columns": null,
            "grid_template_rows": null,
            "height": null,
            "justify_content": null,
            "justify_items": null,
            "left": null,
            "margin": null,
            "max_height": null,
            "max_width": null,
            "min_height": null,
            "min_width": null,
            "object_fit": null,
            "object_position": null,
            "order": null,
            "overflow": null,
            "overflow_x": null,
            "overflow_y": null,
            "padding": null,
            "right": null,
            "top": null,
            "visibility": null,
            "width": null
          }
        },
        "e6183d5d0efa4406ac64e3d5336e5bcc": {
          "model_module": "@jupyter-widgets/controls",
          "model_name": "ProgressStyleModel",
          "model_module_version": "1.5.0",
          "state": {
            "_model_module": "@jupyter-widgets/controls",
            "_model_module_version": "1.5.0",
            "_model_name": "ProgressStyleModel",
            "_view_count": null,
            "_view_module": "@jupyter-widgets/base",
            "_view_module_version": "1.2.0",
            "_view_name": "StyleView",
            "bar_color": null,
            "description_width": ""
          }
        },
        "c4d71adf52944b138f6f15c635b6f858": {
          "model_module": "@jupyter-widgets/base",
          "model_name": "LayoutModel",
          "model_module_version": "1.2.0",
          "state": {
            "_model_module": "@jupyter-widgets/base",
            "_model_module_version": "1.2.0",
            "_model_name": "LayoutModel",
            "_view_count": null,
            "_view_module": "@jupyter-widgets/base",
            "_view_module_version": "1.2.0",
            "_view_name": "LayoutView",
            "align_content": null,
            "align_items": null,
            "align_self": null,
            "border": null,
            "bottom": null,
            "display": null,
            "flex": null,
            "flex_flow": null,
            "grid_area": null,
            "grid_auto_columns": null,
            "grid_auto_flow": null,
            "grid_auto_rows": null,
            "grid_column": null,
            "grid_gap": null,
            "grid_row": null,
            "grid_template_areas": null,
            "grid_template_columns": null,
            "grid_template_rows": null,
            "height": null,
            "justify_content": null,
            "justify_items": null,
            "left": null,
            "margin": null,
            "max_height": null,
            "max_width": null,
            "min_height": null,
            "min_width": null,
            "object_fit": null,
            "object_position": null,
            "order": null,
            "overflow": null,
            "overflow_x": null,
            "overflow_y": null,
            "padding": null,
            "right": null,
            "top": null,
            "visibility": null,
            "width": null
          }
        },
        "d4ead5036eb0441f82c2a7722340ece1": {
          "model_module": "@jupyter-widgets/controls",
          "model_name": "DescriptionStyleModel",
          "model_module_version": "1.5.0",
          "state": {
            "_model_module": "@jupyter-widgets/controls",
            "_model_module_version": "1.5.0",
            "_model_name": "DescriptionStyleModel",
            "_view_count": null,
            "_view_module": "@jupyter-widgets/base",
            "_view_module_version": "1.2.0",
            "_view_name": "StyleView",
            "description_width": ""
          }
        }
      }
    }
  },
  "nbformat": 4,
  "nbformat_minor": 0
}