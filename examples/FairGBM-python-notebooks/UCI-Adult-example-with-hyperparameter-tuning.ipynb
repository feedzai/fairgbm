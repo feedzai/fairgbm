{
 "cells": [
  {
   "cell_type": "markdown",
   "id": "cff42768",
   "metadata": {},
   "source": [
    "# FairGBM example with hyperparameter tuning (using UCI Adult dataset)\n",
    "\n",
    "**IMPORTANT**: as FairGBM is a research project, the default hyperparameters will not be as reliable as the default `lightgbm` or `sklearn` hyperparameters.\n",
    "\n",
    "Therefore we earnestly **recommend performing hyperparameter-tuning** on the `fairgbm` hyperparameters, most importantly on the `multiplier_learning_rate` parameter!"
   ]
  },
  {
   "cell_type": "markdown",
   "id": "8822e0d4",
   "metadata": {},
   "source": [
    "This notebook has extra requirements besides `fairgbm`. Simply run ```pip install -r requirements.txt``` to get them!"
   ]
  },
  {
   "cell_type": "code",
   "execution_count": 1,
   "id": "4bdcc068",
   "metadata": {},
   "outputs": [],
   "source": [
    "import os\n",
    "from pathlib import Path\n",
    "import pandas as pd\n",
    "import numpy as np"
   ]
  },
  {
   "cell_type": "code",
   "execution_count": 2,
   "id": "cbe2ed76",
   "metadata": {},
   "outputs": [],
   "source": [
    "N_TRIALS = 20\n",
    "N_JOBS = max(2, os.cpu_count())\n",
    "SEED = 42\n",
    "\n",
    "PERF_METRIC = \"accuracy\"\n",
    "FAIR_METRIC = \"equalized_odds_ratio\""
   ]
  },
  {
   "cell_type": "markdown",
   "id": "10ff123f",
   "metadata": {},
   "source": [
    "### Load data"
   ]
  },
  {
   "cell_type": "code",
   "execution_count": 3,
   "id": "27034067",
   "metadata": {},
   "outputs": [
    {
     "data": {
      "text/html": [
       "<div>\n",
       "<style scoped>\n",
       "    .dataframe tbody tr th:only-of-type {\n",
       "        vertical-align: middle;\n",
       "    }\n",
       "\n",
       "    .dataframe tbody tr th {\n",
       "        vertical-align: top;\n",
       "    }\n",
       "\n",
       "    .dataframe thead th {\n",
       "        text-align: right;\n",
       "    }\n",
       "</style>\n",
       "<table border=\"1\" class=\"dataframe\">\n",
       "  <thead>\n",
       "    <tr style=\"text-align: right;\">\n",
       "      <th></th>\n",
       "      <th>age</th>\n",
       "      <th>workclass</th>\n",
       "      <th>fnlwgt</th>\n",
       "      <th>education</th>\n",
       "      <th>education-num</th>\n",
       "      <th>marital-status</th>\n",
       "      <th>occupation</th>\n",
       "      <th>relationship</th>\n",
       "      <th>race</th>\n",
       "      <th>sex</th>\n",
       "      <th>capital-gain</th>\n",
       "      <th>capital-loss</th>\n",
       "      <th>hours-per-week</th>\n",
       "      <th>native-country</th>\n",
       "      <th>target</th>\n",
       "    </tr>\n",
       "  </thead>\n",
       "  <tbody>\n",
       "    <tr>\n",
       "      <th>0</th>\n",
       "      <td>39.0</td>\n",
       "      <td>State-gov</td>\n",
       "      <td>77516.0</td>\n",
       "      <td>Bachelors</td>\n",
       "      <td>13.0</td>\n",
       "      <td>Never-married</td>\n",
       "      <td>Adm-clerical</td>\n",
       "      <td>Not-in-family</td>\n",
       "      <td>White</td>\n",
       "      <td>Male</td>\n",
       "      <td>2174.0</td>\n",
       "      <td>0.0</td>\n",
       "      <td>40.0</td>\n",
       "      <td>United-States</td>\n",
       "      <td>&lt;=50K</td>\n",
       "    </tr>\n",
       "    <tr>\n",
       "      <th>1</th>\n",
       "      <td>50.0</td>\n",
       "      <td>Self-emp-not-inc</td>\n",
       "      <td>83311.0</td>\n",
       "      <td>Bachelors</td>\n",
       "      <td>13.0</td>\n",
       "      <td>Married-civ-spouse</td>\n",
       "      <td>Exec-managerial</td>\n",
       "      <td>Husband</td>\n",
       "      <td>White</td>\n",
       "      <td>Male</td>\n",
       "      <td>0.0</td>\n",
       "      <td>0.0</td>\n",
       "      <td>13.0</td>\n",
       "      <td>United-States</td>\n",
       "      <td>&lt;=50K</td>\n",
       "    </tr>\n",
       "    <tr>\n",
       "      <th>2</th>\n",
       "      <td>38.0</td>\n",
       "      <td>Private</td>\n",
       "      <td>215646.0</td>\n",
       "      <td>HS-grad</td>\n",
       "      <td>9.0</td>\n",
       "      <td>Divorced</td>\n",
       "      <td>Handlers-cleaners</td>\n",
       "      <td>Not-in-family</td>\n",
       "      <td>White</td>\n",
       "      <td>Male</td>\n",
       "      <td>0.0</td>\n",
       "      <td>0.0</td>\n",
       "      <td>40.0</td>\n",
       "      <td>United-States</td>\n",
       "      <td>&lt;=50K</td>\n",
       "    </tr>\n",
       "    <tr>\n",
       "      <th>3</th>\n",
       "      <td>53.0</td>\n",
       "      <td>Private</td>\n",
       "      <td>234721.0</td>\n",
       "      <td>11th</td>\n",
       "      <td>7.0</td>\n",
       "      <td>Married-civ-spouse</td>\n",
       "      <td>Handlers-cleaners</td>\n",
       "      <td>Husband</td>\n",
       "      <td>Black</td>\n",
       "      <td>Male</td>\n",
       "      <td>0.0</td>\n",
       "      <td>0.0</td>\n",
       "      <td>40.0</td>\n",
       "      <td>United-States</td>\n",
       "      <td>&lt;=50K</td>\n",
       "    </tr>\n",
       "    <tr>\n",
       "      <th>4</th>\n",
       "      <td>28.0</td>\n",
       "      <td>Private</td>\n",
       "      <td>338409.0</td>\n",
       "      <td>Bachelors</td>\n",
       "      <td>13.0</td>\n",
       "      <td>Married-civ-spouse</td>\n",
       "      <td>Prof-specialty</td>\n",
       "      <td>Wife</td>\n",
       "      <td>Black</td>\n",
       "      <td>Female</td>\n",
       "      <td>0.0</td>\n",
       "      <td>0.0</td>\n",
       "      <td>40.0</td>\n",
       "      <td>Cuba</td>\n",
       "      <td>&lt;=50K</td>\n",
       "    </tr>\n",
       "  </tbody>\n",
       "</table>\n",
       "</div>"
      ],
      "text/plain": [
       "    age         workclass    fnlwgt  education  education-num  \\\n",
       "0  39.0         State-gov   77516.0  Bachelors           13.0   \n",
       "1  50.0  Self-emp-not-inc   83311.0  Bachelors           13.0   \n",
       "2  38.0           Private  215646.0    HS-grad            9.0   \n",
       "3  53.0           Private  234721.0       11th            7.0   \n",
       "4  28.0           Private  338409.0  Bachelors           13.0   \n",
       "\n",
       "       marital-status         occupation   relationship   race     sex  \\\n",
       "0       Never-married       Adm-clerical  Not-in-family  White    Male   \n",
       "1  Married-civ-spouse    Exec-managerial        Husband  White    Male   \n",
       "2            Divorced  Handlers-cleaners  Not-in-family  White    Male   \n",
       "3  Married-civ-spouse  Handlers-cleaners        Husband  Black    Male   \n",
       "4  Married-civ-spouse     Prof-specialty           Wife  Black  Female   \n",
       "\n",
       "   capital-gain  capital-loss  hours-per-week native-country target  \n",
       "0        2174.0           0.0            40.0  United-States  <=50K  \n",
       "1           0.0           0.0            13.0  United-States  <=50K  \n",
       "2           0.0           0.0            40.0  United-States  <=50K  \n",
       "3           0.0           0.0            40.0  United-States  <=50K  \n",
       "4           0.0           0.0            40.0           Cuba  <=50K  "
      ]
     },
     "execution_count": 3,
     "metadata": {},
     "output_type": "execute_result"
    }
   ],
   "source": [
    "from utils import load_uci_adult\n",
    "train_set, other_set = load_uci_adult()\n",
    "train_set.head()"
   ]
  },
  {
   "cell_type": "markdown",
   "id": "60ee6071",
   "metadata": {},
   "source": [
    "Split features (X), labels (Y), and sensitive attributes (S).\n",
    "\n",
    "**NOTE**: the labels (Y) and sensitive attributes (S) must be in numeric format!"
   ]
  },
  {
   "cell_type": "code",
   "execution_count": 4,
   "id": "03425560",
   "metadata": {},
   "outputs": [],
   "source": [
    "UCI_ADULT_TARGET_COL = \"target\"\n",
    "UCI_ADULT_SENSITIVE_COL = \"sex\"\n",
    "\n",
    "def split_X_Y_S_uci_adult(data) -> tuple:\n",
    "    \"\"\"Splits the given UCI Adult data into features, target, and sensitive attributes.\n",
    "    \n",
    "    Returns\n",
    "    -------\n",
    "    X, Y, S : tuple[pd.DataFrame, pd.Series, pd.Series]\n",
    "        A tuple conmtaining the dataset's features, labels, and sensitive attributes.\n",
    "    \"\"\"\n",
    "    ignored_cols = [UCI_ADULT_TARGET_COL, UCI_ADULT_SENSITIVE_COL, \"fnlwgt\"]\n",
    "    feature_cols = [col for col in data.columns if col not in ignored_cols]\n",
    "\n",
    "    X = data[feature_cols]\n",
    "    \n",
    "    # Convert label to numeric\n",
    "    Y = np.array(\n",
    "        [0 if \"<=50K\" in val.strip() else 1 for val in data[UCI_ADULT_TARGET_COL]],\n",
    "        dtype=int)\n",
    "\n",
    "    # Convert sensitive attributes to numeric\n",
    "    # NOTE! You can use two or more sensitive groups!\n",
    "    S = np.array(\n",
    "        [1 if val == \"Female\" else 0 for val in data[UCI_ADULT_SENSITIVE_COL]],\n",
    "        dtype=int)\n",
    "    \n",
    "    return X, Y, S"
   ]
  },
  {
   "cell_type": "markdown",
   "id": "9b99f0de",
   "metadata": {},
   "source": [
    "In this example we're using only two sensitive attributes (sex=\"Female\" or sex=\"Male\").\n",
    "\n",
    "However, _FairGBM is **not** restricted to binary sensitive attributes_: you can use two or more as long as they're encoded in a single numeric column."
   ]
  },
  {
   "cell_type": "markdown",
   "id": "5d9c295d",
   "metadata": {},
   "source": [
    "---\n",
    "Split test data into validation and test (we need a validation set for hyperparameter tuning)."
   ]
  },
  {
   "cell_type": "code",
   "execution_count": 5,
   "id": "c352ac97",
   "metadata": {},
   "outputs": [],
   "source": [
    "VALIDATION_SIZE_N = int(0.5 * len(other_set))\n",
    "\n",
    "indices = np.random.permutation(len(other_set))\n",
    "val_indices = indices[VALIDATION_SIZE_N: ]\n",
    "test_indices = indices[: VALIDATION_SIZE_N]\n",
    "\n",
    "val_set = other_set.iloc[val_indices]\n",
    "test_set = other_set.iloc[test_indices]"
   ]
  },
  {
   "cell_type": "code",
   "execution_count": 6,
   "id": "7db7d742",
   "metadata": {},
   "outputs": [],
   "source": [
    "X_train, Y_train, S_train = split_X_Y_S_uci_adult(train_set)\n",
    "X_val, Y_val, S_val = split_X_Y_S_uci_adult(val_set)\n",
    "X_test, Y_test, S_test = split_X_Y_S_uci_adult(test_set);"
   ]
  },
  {
   "cell_type": "markdown",
   "id": "0cad6eeb",
   "metadata": {},
   "source": [
    "###  Define FairGBM hyperparameter search space and tuner\n",
    "\n",
    "We're using the [`hyperparameter-tuning`](https://pypi.org/project/hyperparameter-tuning/) package (essentially contains a series of useful wrappers around `optuna`)."
   ]
  },
  {
   "cell_type": "code",
   "execution_count": 7,
   "id": "b02185ad",
   "metadata": {},
   "outputs": [],
   "source": [
    "# This file contains an example hyperparameter search space for FairGBM\n",
    "HYPERPARAM_SPACE_PATH = \"fairgbm_equalized-odds.yaml\""
   ]
  },
  {
   "cell_type": "markdown",
   "id": "a59dcd13",
   "metadata": {},
   "source": [
    "This tuner configuration will maximize the average of `accuracy` and `equal_odds_ratio`."
   ]
  },
  {
   "cell_type": "code",
   "execution_count": 8,
   "id": "0fd15f66",
   "metadata": {},
   "outputs": [
    {
     "name": "stderr",
     "output_type": "stream",
     "text": [
      "[I 2023-09-22 13:18:25,236] A new study created in memory with name: no-name-f0c88745-490d-4264-9468-c9106a7bb3cb\n"
     ]
    }
   ],
   "source": [
    "from hpt.tuner import ObjectiveFunction, OptunaTuner\n",
    "\n",
    "obj_func = ObjectiveFunction(\n",
    "    X_train=X_train, y_train=Y_train, s_train=S_train,\n",
    "    X_val=X_val, y_val=Y_val, s_val=S_val,\n",
    "    hyperparameter_space=HYPERPARAM_SPACE_PATH,\n",
    "    eval_metric=PERF_METRIC,\n",
    "    other_eval_metric=FAIR_METRIC,\n",
    "    threshold=0.50,\n",
    "    alpha=0.50,   # relative weight of `eval_metric` vs `other_eval_metric`\n",
    ")\n",
    "\n",
    "tuner = OptunaTuner(\n",
    "    objective_function=obj_func,\n",
    "    direction=\"maximize\",\n",
    "    seed=SEED,\n",
    ")"
   ]
  },
  {
   "cell_type": "markdown",
   "id": "44bb27d7",
   "metadata": {},
   "source": [
    "### Run HPT tuner"
   ]
  },
  {
   "cell_type": "code",
   "execution_count": null,
   "id": "0c4eaf2e",
   "metadata": {},
   "outputs": [],
   "source": [
    "%%time\n",
    "# Then just run optimize as you would for an optuna.Study object\n",
    "tuner.optimize(n_trials=N_TRIALS, n_jobs=N_JOBS, show_progress_bar=True)"
   ]
  },
  {
   "cell_type": "code",
   "execution_count": 10,
   "id": "1bea2408",
   "metadata": {},
   "outputs": [
    {
     "data": {
      "image/png": "[encoded data removed]",
      "text/plain": [
       "<Figure size 640x480 with 1 Axes>"
      ]
     },
     "metadata": {},
     "output_type": "display_data"
    }
   ],
   "source": [
    "obj_func.plot()"
   ]
  },
  {
   "cell_type": "markdown",
   "id": "6650cb19",
   "metadata": {},
   "source": [
    "Hyperparameter tuning (HPT) results are stored in `tuner.results`:"
   ]
  },
  {
   "cell_type": "code",
   "execution_count": 20,
   "id": "97525554",
   "metadata": {},
   "outputs": [
    {
     "data": {
      "text/html": [
       "<div>\n",
       "<style scoped>\n",
       "    .dataframe tbody tr th:only-of-type {\n",
       "        vertical-align: middle;\n",
       "    }\n",
       "\n",
       "    .dataframe tbody tr th {\n",
       "        vertical-align: top;\n",
       "    }\n",
       "\n",
       "    .dataframe thead th {\n",
       "        text-align: right;\n",
       "    }\n",
       "</style>\n",
       "<table border=\"1\" class=\"dataframe\">\n",
       "  <thead>\n",
       "    <tr style=\"text-align: right;\">\n",
       "      <th></th>\n",
       "      <th>accuracy</th>\n",
       "      <th>equalized_odds_ratio</th>\n",
       "      <th>equalized_odds_diff</th>\n",
       "    </tr>\n",
       "  </thead>\n",
       "  <tbody>\n",
       "    <tr>\n",
       "      <th>17</th>\n",
       "      <td>0.372313</td>\n",
       "      <td>0.865521</td>\n",
       "      <td>0.105420</td>\n",
       "    </tr>\n",
       "    <tr>\n",
       "      <th>13</th>\n",
       "      <td>0.862916</td>\n",
       "      <td>0.849381</td>\n",
       "      <td>0.112689</td>\n",
       "    </tr>\n",
       "    <tr>\n",
       "      <th>12</th>\n",
       "      <td>0.836998</td>\n",
       "      <td>0.821629</td>\n",
       "      <td>0.023367</td>\n",
       "    </tr>\n",
       "    <tr>\n",
       "      <th>10</th>\n",
       "      <td>0.759980</td>\n",
       "      <td>0.761170</td>\n",
       "      <td>0.017205</td>\n",
       "    </tr>\n",
       "    <tr>\n",
       "      <th>6</th>\n",
       "      <td>0.863776</td>\n",
       "      <td>0.706801</td>\n",
       "      <td>0.049897</td>\n",
       "    </tr>\n",
       "  </tbody>\n",
       "</table>\n",
       "</div>"
      ],
      "text/plain": [
       "    accuracy  equalized_odds_ratio  equalized_odds_diff\n",
       "17  0.372313              0.865521             0.105420\n",
       "13  0.862916              0.849381             0.112689\n",
       "12  0.836998              0.821629             0.023367\n",
       "10  0.759980              0.761170             0.017205\n",
       "6   0.863776              0.706801             0.049897"
      ]
     },
     "execution_count": 20,
     "metadata": {},
     "output_type": "execute_result"
    }
   ],
   "source": [
    "# Show results with best fairness\n",
    "tuner.results.sort_values(by=FAIR_METRIC, ascending=False).head()[\n",
    "    [PERF_METRIC, FAIR_METRIC, \"equalized_odds_diff\"]\n",
    "]"
   ]
  },
  {
   "cell_type": "markdown",
   "id": "68f91d90",
   "metadata": {},
   "source": [
    "### Reconstruct classifier from best HPT trial"
   ]
  },
  {
   "cell_type": "code",
   "execution_count": 12,
   "id": "a1ea2dab",
   "metadata": {},
   "outputs": [
    {
     "name": "stdout",
     "output_type": "stream",
     "text": [
      "Best trial was #13.\n"
     ]
    }
   ],
   "source": [
    "print(f\"Best trial was #{obj_func.best_trial.id}.\")"
   ]
  },
  {
   "cell_type": "code",
   "execution_count": 13,
   "id": "34c35492",
   "metadata": {},
   "outputs": [
    {
     "name": "stdout",
     "output_type": "stream",
     "text": [
      "CPU times: user 3min 19s, sys: 7.47 ms, total: 3min 19s\n",
      "Wall time: 3min 19s\n"
     ]
    }
   ],
   "source": [
    "%%time\n",
    "fairgbm_clf = obj_func.reconstruct_model(obj_func.best_trial)"
   ]
  },
  {
   "cell_type": "markdown",
   "id": "071ed3c6",
   "metadata": {},
   "source": [
    "### Compute test predictions\n",
    "\n",
    "**Note**: the sensitive attributes are only used in training and not at inference time!"
   ]
  },
  {
   "cell_type": "code",
   "execution_count": 14,
   "id": "9c3f665e",
   "metadata": {},
   "outputs": [],
   "source": [
    "# Compute test predictions (select only probabilities for positive class)\n",
    "Y_test_pred = fairgbm_clf.predict_proba(X_test)[:, 1]"
   ]
  },
  {
   "cell_type": "markdown",
   "id": "4d8df57e",
   "metadata": {},
   "source": [
    "### And evaluate test performance and fairness"
   ]
  },
  {
   "cell_type": "code",
   "execution_count": 15,
   "id": "12782e2a",
   "metadata": {},
   "outputs": [
    {
     "name": "stderr",
     "output_type": "stream",
     "text": [
      "/root/miniconda/lib/python3.11/site-packages/sklearn/metrics/_classification.py:2845: FutureWarning: Setting the eps parameter is deprecated and will be removed in 1.5. Instead eps will always havea default value of `np.finfo(y_pred.dtype).eps`.\n",
      "  warnings.warn(\n"
     ]
    },
    {
     "data": {
      "text/plain": [
       "{'accuracy': 0.8605651105651105,\n",
       " 'tpr': 0.6402088772845953,\n",
       " 'fnr': 0.3597911227154047,\n",
       " 'fpr': 0.07164658634538153,\n",
       " 'tnr': 0.9283534136546184,\n",
       " 'precision': 0.7332535885167464,\n",
       " 'ppr': 0.20540540540540542,\n",
       " 'squared_loss': 0.09729872177266831,\n",
       " 'log_loss': 0.30427899668335334,\n",
       " 'tnr_ratio': 0.9972660818988818,\n",
       " 'tnr_diff': 0.002542347647430776,\n",
       " 'fnr_ratio': 0.9200230149597238,\n",
       " 'fnr_diff': 0.029159838823315187,\n",
       " 'precision_ratio': 0.7124308929468922,\n",
       " 'precision_diff': 0.22543997898607837,\n",
       " 'fpr_ratio': 0.9649882409696676,\n",
       " 'fpr_diff': 0.002542347647430776,\n",
       " 'tpr_ratio': 0.9561213853896781,\n",
       " 'tpr_diff': 0.029159838823315187,\n",
       " 'accuracy_ratio': 0.9366861367713762,\n",
       " 'accuracy_diff': 0.05689994486803318,\n",
       " 'ppr_ratio': 0.5894314550428764,\n",
       " 'ppr_diff': 0.09754295770200405,\n",
       " 'equalized_odds_ratio': 0.9561213853896781,\n",
       " 'equalized_odds_diff': 0.029159838823315187}"
      ]
     },
     "execution_count": 15,
     "metadata": {},
     "output_type": "execute_result"
    }
   ],
   "source": [
    "from hpt.evaluation import evaluate_predictions\n",
    "\n",
    "test_eval = evaluate_predictions(\n",
    "    y_true=Y_test, y_pred_scores=Y_test_pred,\n",
    "    sensitive_attribute=S_test,\n",
    "    threshold=0.50,\n",
    ")\n",
    "\n",
    "test_eval"
   ]
  },
  {
   "cell_type": "code",
   "execution_count": 16,
   "id": "0477514c",
   "metadata": {},
   "outputs": [
    {
     "name": "stdout",
     "output_type": "stream",
     "text": [
      "FairGBM results:\n",
      "\t Accuracy : 86.1%\n",
      "\t Equalized odds ratio (higher is better): 95.6%\n",
      "\t Equalized odds difference (lower is better): 2.9%\n"
     ]
    }
   ],
   "source": [
    "print(f\"FairGBM results:\")\n",
    "print(f\"\\t Accuracy : {test_eval['accuracy']:.1%}\")\n",
    "print(f\"\\t Equalized odds ratio (higher is better): {test_eval['equalized_odds_ratio']:.1%}\")\n",
    "print(f\"\\t Equalized odds difference (lower is better): {test_eval['equalized_odds_diff']:.1%}\")"
   ]
  }
 ],
 "metadata": {
  "kernelspec": {
   "display_name": "Python 3 (ipykernel)",
   "language": "python",
   "name": "python3"
  },
  "language_info": {
   "codemirror_mode": {
    "name": "ipython",
    "version": 3
   },
   "file_extension": ".py",
   "mimetype": "text/x-python",
   "name": "python",
   "nbconvert_exporter": "python",
   "pygments_lexer": "ipython3",
   "version": "3.11.4"
  }
 },
 "nbformat": 4,
 "nbformat_minor": 5
}
