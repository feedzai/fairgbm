{
 "cells": [
  {
   "cell_type": "markdown",
   "id": "cff42768",
   "metadata": {},
   "source": [
    "# Simple FairGBM example on the UCI Adult dataset"
   ]
  },
  {
   "cell_type": "code",
   "execution_count": 1,
   "id": "4bdcc068",
   "metadata": {},
   "outputs": [],
   "source": [
    "from pathlib import Path\n",
    "import pandas as pd\n",
    "import numpy as np"
   ]
  },
  {
   "cell_type": "code",
   "execution_count": 2,
   "id": "00f65a05",
   "metadata": {},
   "outputs": [],
   "source": [
    "SEED = 42"
   ]
  },
  {
   "cell_type": "markdown",
   "id": "10ff123f",
   "metadata": {},
   "source": [
    "### Load data"
   ]
  },
  {
   "cell_type": "code",
   "execution_count": null,
   "id": "27034067",
   "metadata": {},
   "outputs": [
    {
     "name": "stdout",
     "output_type": "stream",
     "text": [
      "100% [..........................................................................] 3974305 / 3974305"
     ]
    }
   ],
   "source": [
    "from utils import load_uci_adult, split_X_Y_S_uci_adult\n",
    "\n",
    "train_set, test_set = load_uci_adult()\n",
    "X_train, Y_train, S_train = split_X_Y_S_uci_adult(train_set)\n",
    "X_test, Y_test, S_test = split_X_Y_S_uci_adult(test_set);"
   ]
  },
  {
   "cell_type": "markdown",
   "id": "df760954",
   "metadata": {},
   "source": [
    "###  Construct FairGBM model"
   ]
  },
  {
   "cell_type": "code",
   "execution_count": null,
   "id": "742500ae",
   "metadata": {},
   "outputs": [],
   "source": [
    "from fairgbm import FairGBMClassifier\n",
    "\n",
    "core_lgbm_params = {\n",
    "    \"n_estimators\": 200,\n",
    "    \"random_state\": SEED,\n",
    "    \"n_jobs\": -2,\n",
    "}\n",
    "\n",
    "# Instantiate\n",
    "fairgbm_clf = FairGBMClassifier(\n",
    "    constraint_type=\"FNR\",    # constraint on equal group-wise TPR (equal opportunity)\n",
    "    multiplier_learning_rate=0.2,\n",
    "    constraint_fnr_slack=0.05,\n",
    "    **core_lgbm_params,\n",
    ")"
   ]
  },
  {
   "cell_type": "markdown",
   "id": "44d734df",
   "metadata": {},
   "source": [
    "### Train model"
   ]
  },
  {
   "cell_type": "code",
   "execution_count": null,
   "id": "34600b7c",
   "metadata": {},
   "outputs": [],
   "source": [
    "%%time\n",
    "# Train using features (X), labels (Y), and sensitive attributes (S)\n",
    "fairgbm_clf.fit(X_train, Y_train, constraint_group=S_train)"
   ]
  },
  {
   "cell_type": "markdown",
   "id": "a75d8887",
   "metadata": {},
   "source": [
    "### Compute binary predictions"
   ]
  },
  {
   "cell_type": "code",
   "execution_count": null,
   "id": "e81ab16d",
   "metadata": {},
   "outputs": [],
   "source": [
    "Y_test_pred = fairgbm_clf.predict(X_test)"
   ]
  },
  {
   "cell_type": "markdown",
   "id": "a99c5dec",
   "metadata": {},
   "source": [
    "### Compute Performance and Fairness metrics"
   ]
  },
  {
   "cell_type": "code",
   "execution_count": null,
   "id": "ec47ecec",
   "metadata": {},
   "outputs": [],
   "source": [
    "from sklearn.metrics import accuracy_score\n",
    "from utils import compute_fairness_ratio\n",
    "\n",
    "acc_val = accuracy_score(Y_test, Y_test_pred)\n",
    "eq_op_val = compute_fairness_ratio(Y_test, Y_test_pred, S_test, \"TPR\")"
   ]
  },
  {
   "cell_type": "code",
   "execution_count": null,
   "id": "0df49402",
   "metadata": {},
   "outputs": [],
   "source": [
    "print(f\"FairGBM:\")\n",
    "print(f\"\\tAccuracy: {acc_val:.1%}\")\n",
    "print(f\"\\tFairness: {eq_op_val:.1%}\")"
   ]
  },
  {
   "cell_type": "markdown",
   "id": "a5857781",
   "metadata": {},
   "source": [
    "### Compare with vanilla LightGBM"
   ]
  },
  {
   "cell_type": "code",
   "execution_count": null,
   "id": "b7184809",
   "metadata": {},
   "outputs": [],
   "source": [
    "from fairgbm import LGBMClassifier\n",
    "\n",
    "# Instantiate\n",
    "lgbm_clf = LGBMClassifier(**core_lgbm_params)\n",
    "\n",
    "# Train\n",
    "lgbm_clf.fit(X_train, Y_train)\n",
    "\n",
    "# Predict\n",
    "Y_test_pred_lgbm = lgbm_clf.predict(X_test)"
   ]
  },
  {
   "cell_type": "code",
   "execution_count": null,
   "id": "05c27717",
   "metadata": {},
   "outputs": [],
   "source": [
    "lgbm_acc_val = accuracy_score(Y_test, Y_test_pred_lgbm)\n",
    "lgbm_eq_op_val = compute_fairness_ratio(Y_test, Y_test_pred_lgbm, S_test, \"TPR\")\n",
    "\n",
    "print(f\"Vanilla LightGBM:\")\n",
    "print(f\"\\tAccuracy: {lgbm_acc_val:.1%}\")\n",
    "print(f\"\\tFairness: {lgbm_eq_op_val:.1%}\")"
   ]
  }
 ],
 "metadata": {
  "kernelspec": {
   "display_name": "Python 3 (ipykernel)",
   "language": "python",
   "name": "python3"
  },
  "language_info": {
   "codemirror_mode": {
    "name": "ipython",
    "version": 3
   },
   "file_extension": ".py",
   "mimetype": "text/x-python",
   "name": "python",
   "nbconvert_exporter": "python",
   "pygments_lexer": "ipython3",
   "version": "3.9.13"
  }
 },
 "nbformat": 4,
 "nbformat_minor": 5
}
