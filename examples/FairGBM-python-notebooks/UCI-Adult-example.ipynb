{
 "cells": [
  {
   "cell_type": "code",
   "execution_count": 1,
   "id": "1da67559",
   "metadata": {},
   "outputs": [],
   "source": [
    "import wget"
   ]
  },
  {
   "cell_type": "code",
   "execution_count": 5,
   "id": "c4f95b5a",
   "metadata": {},
   "outputs": [],
   "source": [
    "base_url = \"https://archive.ics.uci.edu/ml/machine-learning-databases/adult/\"\n",
    "train_url = base_url + \"adult.data\"\n",
    "test_url = base_url + \"adult.test\""
   ]
  },
  {
   "cell_type": "code",
   "execution_count": 6,
   "id": "9415c170",
   "metadata": {},
   "outputs": [
    {
     "name": "stdout",
     "output_type": "stream",
     "text": [
      "100% [..........................................................................] 3974305 / 3974305"
     ]
    }
   ],
   "source": [
    "filename = wget.download(train_url)"
   ]
  },
  {
   "cell_type": "code",
   "execution_count": null,
   "id": "dc108663",
   "metadata": {},
   "outputs": [],
   "source": []
  }
 ],
 "metadata": {
  "kernelspec": {
   "display_name": "Python 3 (ipykernel)",
   "language": "python",
   "name": "python3"
  },
  "language_info": {
   "codemirror_mode": {
    "name": "ipython",
    "version": 3
   },
   "file_extension": ".py",
   "mimetype": "text/x-python",
   "name": "python",
   "nbconvert_exporter": "python",
   "pygments_lexer": "ipython3",
   "version": "3.9.13"
  }
 },
 "nbformat": 4,
 "nbformat_minor": 5
}
