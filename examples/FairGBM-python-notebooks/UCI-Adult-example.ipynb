{
 "cells": [
  {
   "cell_type": "markdown",
   "id": "cff42768",
   "metadata": {},
   "source": [
    "# Simple FairGBM example on the UCI Adult dataset"
   ]
  },
  {
   "cell_type": "code",
   "execution_count": 1,
   "id": "4bdcc068",
   "metadata": {},
   "outputs": [],
   "source": [
    "from pathlib import Path\n",
    "import pandas as pd\n",
    "import numpy as np"
   ]
  },
  {
   "cell_type": "markdown",
   "id": "10ff123f",
   "metadata": {},
   "source": [
    "## Load data"
   ]
  },
  {
   "cell_type": "code",
   "execution_count": 2,
   "id": "27034067",
   "metadata": {},
   "outputs": [
    {
     "name": "stdout",
     "output_type": "stream",
     "text": [
      "100% [................................................................................] 5229 / 5229"
     ]
    }
   ],
   "source": [
    "from utils import load_uci_adult, split_X_Y_S_uci_adult\n",
    "\n",
    "train_set, test_set = load_uci_adult()\n",
    "X_train, Y_train, S_train = split_X_Y_S_uci_adult(train_set)\n",
    "X_test, Y_test, S_test = split_X_Y_S_uci_adult(test_set);"
   ]
  },
  {
   "cell_type": "markdown",
   "id": "5c138b36",
   "metadata": {},
   "source": [
    "##  Train model"
   ]
  },
  {
   "cell_type": "code",
   "execution_count": 3,
   "id": "9dbd60f8",
   "metadata": {},
   "outputs": [],
   "source": [
    "from fairgbm import FairGBMClassifier\n",
    "\n",
    "# Instantiate\n",
    "fairgbm_clf = FairGBMClassifier(\n",
    "    constraint_type=\"FNR\",    # constraint on equal group-wise TPR (equal opportunity)\n",
    "    n_estimators=200,         # core parameters from vanilla LightGBM\n",
    "    multiplier_learning_rate=0.2,\n",
    "    constraint_fnr_slack=0.05,\n",
    "    random_state=42,\n",
    "    n_jobs=-2,\n",
    ")"
   ]
  },
  {
   "cell_type": "code",
   "execution_count": 4,
   "id": "cbca2476",
   "metadata": {},
   "outputs": [
    {
     "name": "stdout",
     "output_type": "stream",
     "text": [
      "CPU times: user 6.44 s, sys: 45.8 ms, total: 6.49 s\n",
      "Wall time: 854 ms\n"
     ]
    },
    {
     "data": {
      "text/html": [
       "<style>#sk-container-id-1 {color: black;background-color: white;}#sk-container-id-1 pre{padding: 0;}#sk-container-id-1 div.sk-toggleable {background-color: white;}#sk-container-id-1 label.sk-toggleable__label {cursor: pointer;display: block;width: 100%;margin-bottom: 0;padding: 0.3em;box-sizing: border-box;text-align: center;}#sk-container-id-1 label.sk-toggleable__label-arrow:before {content: \"▸\";float: left;margin-right: 0.25em;color: #696969;}#sk-container-id-1 label.sk-toggleable__label-arrow:hover:before {color: black;}#sk-container-id-1 div.sk-estimator:hover label.sk-toggleable__label-arrow:before {color: black;}#sk-container-id-1 div.sk-toggleable__content {max-height: 0;max-width: 0;overflow: hidden;text-align: left;background-color: #f0f8ff;}#sk-container-id-1 div.sk-toggleable__content pre {margin: 0.2em;color: black;border-radius: 0.25em;background-color: #f0f8ff;}#sk-container-id-1 input.sk-toggleable__control:checked~div.sk-toggleable__content {max-height: 200px;max-width: 100%;overflow: auto;}#sk-container-id-1 input.sk-toggleable__control:checked~label.sk-toggleable__label-arrow:before {content: \"▾\";}#sk-container-id-1 div.sk-estimator input.sk-toggleable__control:checked~label.sk-toggleable__label {background-color: #d4ebff;}#sk-container-id-1 div.sk-label input.sk-toggleable__control:checked~label.sk-toggleable__label {background-color: #d4ebff;}#sk-container-id-1 input.sk-hidden--visually {border: 0;clip: rect(1px 1px 1px 1px);clip: rect(1px, 1px, 1px, 1px);height: 1px;margin: -1px;overflow: hidden;padding: 0;position: absolute;width: 1px;}#sk-container-id-1 div.sk-estimator {font-family: monospace;background-color: #f0f8ff;border: 1px dotted black;border-radius: 0.25em;box-sizing: border-box;margin-bottom: 0.5em;}#sk-container-id-1 div.sk-estimator:hover {background-color: #d4ebff;}#sk-container-id-1 div.sk-parallel-item::after {content: \"\";width: 100%;border-bottom: 1px solid gray;flex-grow: 1;}#sk-container-id-1 div.sk-label:hover label.sk-toggleable__label {background-color: #d4ebff;}#sk-container-id-1 div.sk-serial::before {content: \"\";position: absolute;border-left: 1px solid gray;box-sizing: border-box;top: 0;bottom: 0;left: 50%;z-index: 0;}#sk-container-id-1 div.sk-serial {display: flex;flex-direction: column;align-items: center;background-color: white;padding-right: 0.2em;padding-left: 0.2em;position: relative;}#sk-container-id-1 div.sk-item {position: relative;z-index: 1;}#sk-container-id-1 div.sk-parallel {display: flex;align-items: stretch;justify-content: center;background-color: white;position: relative;}#sk-container-id-1 div.sk-item::before, #sk-container-id-1 div.sk-parallel-item::before {content: \"\";position: absolute;border-left: 1px solid gray;box-sizing: border-box;top: 0;bottom: 0;left: 50%;z-index: -1;}#sk-container-id-1 div.sk-parallel-item {display: flex;flex-direction: column;z-index: 1;position: relative;background-color: white;}#sk-container-id-1 div.sk-parallel-item:first-child::after {align-self: flex-end;width: 50%;}#sk-container-id-1 div.sk-parallel-item:last-child::after {align-self: flex-start;width: 50%;}#sk-container-id-1 div.sk-parallel-item:only-child::after {width: 0;}#sk-container-id-1 div.sk-dashed-wrapped {border: 1px dashed gray;margin: 0 0.4em 0.5em 0.4em;box-sizing: border-box;padding-bottom: 0.4em;background-color: white;}#sk-container-id-1 div.sk-label label {font-family: monospace;font-weight: bold;display: inline-block;line-height: 1.2em;}#sk-container-id-1 div.sk-label-container {text-align: center;}#sk-container-id-1 div.sk-container {/* jupyter's `normalize.less` sets `[hidden] { display: none; }` but bootstrap.min.css set `[hidden] { display: none !important; }` so we also need the `!important` here to be able to override the default hidden behavior on the sphinx rendered scikit-learn.org. See: https://github.com/scikit-learn/scikit-learn/issues/21755 */display: inline-block !important;position: relative;}#sk-container-id-1 div.sk-text-repr-fallback {display: none;}</style><div id=\"sk-container-id-1\" class=\"sk-top-container\"><div class=\"sk-text-repr-fallback\"><pre>FairGBMClassifier(constraint_fnr_slack=0.05, constraint_type=&#x27;FNR&#x27;,\n",
       "                  multiplier_learning_rate=0.2, n_estimators=200, n_jobs=-2,\n",
       "                  random_state=42)</pre><b>In a Jupyter environment, please rerun this cell to show the HTML representation or trust the notebook. <br />On GitHub, the HTML representation is unable to render, please try loading this page with nbviewer.org.</b></div><div class=\"sk-container\" hidden><div class=\"sk-item\"><div class=\"sk-estimator sk-toggleable\"><input class=\"sk-toggleable__control sk-hidden--visually\" id=\"sk-estimator-id-1\" type=\"checkbox\" checked><label for=\"sk-estimator-id-1\" class=\"sk-toggleable__label sk-toggleable__label-arrow\">FairGBMClassifier</label><div class=\"sk-toggleable__content\"><pre>FairGBMClassifier(constraint_fnr_slack=0.05, constraint_type=&#x27;FNR&#x27;,\n",
       "                  multiplier_learning_rate=0.2, n_estimators=200, n_jobs=-2,\n",
       "                  random_state=42)</pre></div></div></div></div></div>"
      ],
      "text/plain": [
       "FairGBMClassifier(constraint_fnr_slack=0.05, constraint_type='FNR',\n",
       "                  multiplier_learning_rate=0.2, n_estimators=200, n_jobs=-2,\n",
       "                  random_state=42)"
      ]
     },
     "execution_count": 4,
     "metadata": {},
     "output_type": "execute_result"
    }
   ],
   "source": [
    "%%time\n",
    "# Train using features (X), labels (Y), and sensitive attributes (S)\n",
    "fairgbm_clf.fit(X_train, Y_train, constraint_group=S_train)"
   ]
  },
  {
   "cell_type": "code",
   "execution_count": 5,
   "id": "25e03b04",
   "metadata": {},
   "outputs": [],
   "source": [
    "Y_test_pred = fairgbm_clf.predict(X_test)"
   ]
  },
  {
   "cell_type": "code",
   "execution_count": 6,
   "id": "dfc92c80",
   "metadata": {},
   "outputs": [],
   "source": [
    "from sklearn.metrics import confusion_matrix\n",
    "\n",
    "def evaluate_predictions(y_true, y_pred):\n",
    "    \n",
    "    metrics = {}\n",
    "    \n",
    "    # Compute confusion matrix\n",
    "    tn, fp, fn, tp = confusion_matrix(y_true, y_pred).ravel()\n",
    "\n",
    "    # Accuracy score\n",
    "    metrics[\"accuracy\"] = (tp + tn) / (tp + tn + fp + fn)\n",
    "    \n",
    "    # Recall score (TPR; or 1-FNR)\n",
    "    metrics[\"recall\"] = tp / (tp + fn)\n",
    "    \n",
    "    return metrics"
   ]
  },
  {
   "cell_type": "code",
   "execution_count": 7,
   "id": "f7ccbade",
   "metadata": {},
   "outputs": [],
   "source": [
    "male_group_filter = (S_test.to_numpy() == 1.0)\n",
    "female_group_filter = ~male_group_filter"
   ]
  },
  {
   "cell_type": "code",
   "execution_count": 8,
   "id": "0de83dfe",
   "metadata": {},
   "outputs": [],
   "source": [
    "global_metrics = evaluate_predictions(Y_test, Y_test_pred)\n",
    "male_group_metrics = evaluate_predictions(Y_test[male_group_filter], Y_test_pred[male_group_filter])\n",
    "female_group_metrics = evaluate_predictions(Y_test[female_group_filter], Y_test_pred[female_group_filter])"
   ]
  },
  {
   "cell_type": "code",
   "execution_count": 9,
   "id": "54bb6f9f",
   "metadata": {},
   "outputs": [
    {
     "name": "stdout",
     "output_type": "stream",
     "text": [
      "{'accuracy': 0.8712609790553406, 'recall': 0.6544461778471139}\n",
      "{'accuracy': 0.8380294659300184, 'recall': 0.6578624078624079}\n",
      "{'accuracy': 0.9378343479062904, 'recall': 0.635593220338983}\n"
     ]
    }
   ],
   "source": [
    "print(global_metrics)\n",
    "print(male_group_metrics)\n",
    "print(female_group_metrics)"
   ]
  },
  {
   "cell_type": "markdown",
   "id": "3cd0a230",
   "metadata": {},
   "source": [
    "## Compute equal opportunity metric"
   ]
  },
  {
   "cell_type": "code",
   "execution_count": 10,
   "id": "29ac99a3",
   "metadata": {},
   "outputs": [
    {
     "name": "stdout",
     "output_type": "stream",
     "text": [
      "Equal opportunity: 96.6%\n"
     ]
    }
   ],
   "source": [
    "groupwise_recalls = [male_group_metrics[\"recall\"], female_group_metrics[\"recall\"]]\n",
    "print(f\"Equal opportunity: {min(groupwise_recalls) / max(groupwise_recalls):.1%}\")"
   ]
  }
 ],
 "metadata": {
  "kernelspec": {
   "display_name": "Python 3 (ipykernel)",
   "language": "python",
   "name": "python3"
  },
  "language_info": {
   "codemirror_mode": {
    "name": "ipython",
    "version": 3
   },
   "file_extension": ".py",
   "mimetype": "text/x-python",
   "name": "python",
   "nbconvert_exporter": "python",
   "pygments_lexer": "ipython3",
   "version": "3.9.13"
  }
 },
 "nbformat": 4,
 "nbformat_minor": 5
}
