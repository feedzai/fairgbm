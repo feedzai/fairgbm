{
 "cells": [
  {
   "cell_type": "markdown",
   "id": "cff42768",
   "metadata": {},
   "source": [
    "# Simple FairGBM example on the UCI Adult dataset"
   ]
  },
  {
   "cell_type": "code",
   "execution_count": 1,
   "id": "4bdcc068",
   "metadata": {},
   "outputs": [],
   "source": [
    "from pathlib import Path\n",
    "import pandas as pd\n",
    "import numpy as np"
   ]
  },
  {
   "cell_type": "markdown",
   "id": "10ff123f",
   "metadata": {},
   "source": [
    "## Load data"
   ]
  },
  {
   "cell_type": "code",
   "execution_count": 2,
   "id": "27034067",
   "metadata": {},
   "outputs": [
    {
     "name": "stdout",
     "output_type": "stream",
     "text": [
      "100% [................................................................................] 5229 / 5229"
     ]
    }
   ],
   "source": [
    "from utils import load_uci_adult, split_X_y_uci_adult\n",
    "\n",
    "train_set, test_set = load_uci_adult()\n",
    "X_train, y_train = split_X_y_uci_adult(train_set)\n",
    "X_test, y_test = split_X_y_uci_adult(test_set);"
   ]
  },
  {
   "cell_type": "code",
   "execution_count": 5,
   "id": "f5f0d034",
   "metadata": {},
   "outputs": [
    {
     "data": {
      "text/plain": [
       "0.0    24720\n",
       "1.0     7841\n",
       "Name: target, dtype: int64"
      ]
     },
     "execution_count": 5,
     "metadata": {},
     "output_type": "execute_result"
    }
   ],
   "source": [
    "y_train.value_counts()"
   ]
  },
  {
   "cell_type": "code",
   "execution_count": 6,
   "id": "88a349b9",
   "metadata": {},
   "outputs": [
    {
     "data": {
      "text/plain": [
       "0.0    12435\n",
       "1.0     3846\n",
       "Name: target, dtype: int64"
      ]
     },
     "execution_count": 6,
     "metadata": {},
     "output_type": "execute_result"
    }
   ],
   "source": [
    "y_test.value_counts()"
   ]
  },
  {
   "cell_type": "code",
   "execution_count": null,
   "id": "2f79dcd2",
   "metadata": {},
   "outputs": [],
   "source": []
  }
 ],
 "metadata": {
  "kernelspec": {
   "display_name": "Python 3 (ipykernel)",
   "language": "python",
   "name": "python3"
  },
  "language_info": {
   "codemirror_mode": {
    "name": "ipython",
    "version": 3
   },
   "file_extension": ".py",
   "mimetype": "text/x-python",
   "name": "python",
   "nbconvert_exporter": "python",
   "pygments_lexer": "ipython3",
   "version": "3.9.13"
  }
 },
 "nbformat": 4,
 "nbformat_minor": 5
}
